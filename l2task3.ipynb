{
  "nbformat": 4,
  "nbformat_minor": 0,
  "metadata": {
    "colab": {
      "provenance": [],
      "authorship_tag": "ABX9TyPaqN/yPpgIoh1db54VoXOn",
      "include_colab_link": true
    },
    "kernelspec": {
      "name": "python3",
      "display_name": "Python 3"
    },
    "language_info": {
      "name": "python"
    }
  },
  "cells": [
    {
      "cell_type": "markdown",
      "metadata": {
        "id": "view-in-github",
        "colab_type": "text"
      },
      "source": [
        "<a href=\"https://colab.research.google.com/github/alexOrl0vsk/groupWORK/blob/def_fun2/l2task3.ipynb\" target=\"_parent\"><img src=\"https://colab.research.google.com/assets/colab-badge.svg\" alt=\"Open In Colab\"/></a>"
      ]
    },
    {
      "cell_type": "code",
      "execution_count": null,
      "metadata": {
        "id": "qjaQ32fq8aJX"
      },
      "outputs": [],
      "source": [
        "def fun1():\n",
        "  return"
      ]
    },
    {
      "cell_type": "code",
      "source": [
        "def fun2():\n",
        "  print(\"fun2() was called !\")\n",
        "  return"
      ],
      "metadata": {
        "id": "5liInbsn8gHl"
      },
      "execution_count": null,
      "outputs": []
    },
    {
      "cell_type": "code",
      "source": [
        "def fun3():\n",
        "  return"
      ],
      "metadata": {
        "id": "c4vjCo9H8irm"
      },
      "execution_count": null,
      "outputs": []
    },
    {
      "cell_type": "code",
      "source": [
        "def fun4():\n",
        "  return"
      ],
      "metadata": {
        "id": "D4O_uf9l8mdl"
      },
      "execution_count": null,
      "outputs": []
    },
    {
      "cell_type": "code",
      "source": [
        "fun1()\n",
        "fun2()\n",
        "fun3()\n",
        "fun4()\n"
      ],
      "metadata": {
        "id": "_AjY7LSK8oXF"
      },
      "execution_count": null,
      "outputs": []
    },
    {
      "cell_type": "code",
      "source": [],
      "metadata": {
        "id": "jG-6yj778tjU"
      },
      "execution_count": null,
      "outputs": []
    }
  ]
}